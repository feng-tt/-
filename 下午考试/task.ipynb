{
 "cells": [
  {
   "cell_type": "code",
   "execution_count": 1,
   "metadata": {},
   "outputs": [],
   "source": [
    "import pandas as pd\n",
    "import numpy as np\n",
    "import matplotlib.pyplot as plt"
   ]
  },
  {
   "cell_type": "code",
   "execution_count": 62,
   "metadata": {},
   "outputs": [],
   "source": [
    "# 任务1. （50%）\n",
    "# 沪深300成分股是按照一定优选标准，对上市公司进行“移出”或“移入”的动态操作，调整频率为每半年一次。\n",
    "# “任务1数据源”显示沪深300成分股上市公司2012-2015年列表(每半年一张数据页(worksheet))及其月收益率。\n",
    "# 请编写Python或Matlab程序，完成以下数据分析任务：\n",
    "# 1. 从数据源中提取自2012年下半年至2015年下半年，每次成分股调整被“移出”和“移入”上市公司的列表，并写入沪深300成分股异动记录表，每半年一页。\n",
    "task1_income=[]\n",
    "task1_company=[]\n",
    "for i in range(8):\n",
    "    task1_income.append(pd.read_excel('任务1数据源.xlsx',sheet_name=i,header=None).iloc[1:301,3:9])\n",
    "    task1_company.append(pd.read_excel('任务1数据源.xlsx',sheet_name=i)['证券简称'].iloc[:300])"
   ]
  },
  {
   "cell_type": "code",
   "execution_count": 61,
   "metadata": {},
   "outputs": [],
   "source": [
    "writer=pd.ExcelWriter('沪深300成分股异动记录表.xlsx')\n",
    "company_active=[]\n",
    "for i in range(7):\n",
    "    company_active_temp={}\n",
    "    for j in task1_company[i+1].tolist():\n",
    "        if j not in task1_company[i].tolist():\n",
    "            company_active_temp[j]='移入'\n",
    "    for k in task1_company[i].tolist():\n",
    "        if k not in task1_company[i+1].tolist():\n",
    "            company_active_temp[k]='移出'\n",
    "    key_c=[]\n",
    "    value_c=[]\n",
    "    for key,value in company_active_temp.items():\n",
    "        key_c.append(key)\n",
    "        value_c.append(value)\n",
    "    company_active_i=pd.DataFrame([key_c,value_c]).T\n",
    "    company_active_i.columns=['证券简称','异动情况']\n",
    "    company_active_i.to_excel(writer,sheet_name='sheet'+str(i+1))\n",
    "    company_active.append(company_active_temp)\n",
    "writer.save()\n"
   ]
  },
  {
   "cell_type": "code",
   "execution_count": 55,
   "metadata": {},
   "outputs": [
    {
     "name": "stdout",
     "output_type": "stream",
     "text": [
      "五粮液的正态检验结果为：\n",
      "KstestResult(statistic=0.4783331985169029, pvalue=9.236278202927217e-26)\n",
      "平安银行的正态检验结果为：\n",
      "KstestResult(statistic=0.48339238095892145, pvalue=2.4736424515252223e-26)\n",
      "三一重工的正态检验结果为：\n",
      "KstestResult(statistic=0.5034614507363588, pvalue=1.1137926266805988e-28)\n"
     ]
    }
   ],
   "source": [
    "# 第二部分\n",
    "# “任务23数据源”为“五粮液”、“平安银行”、“三一重工”三家上市公司2006-2015年每月底的收益率数据（%），\n",
    "# 任务2. （30%）\n",
    "# 检验以上三个公司的月收益率是否各自符合正态分布？(检验方法可以任选kstest或lillietest)。\n",
    "# 进行正态检验 选择K-S检验\n",
    "writer=pd.ExcelWriter('相关系数矩阵.xlsx')\n",
    "task2_income=pd.read_excel('任务23数据源.xlsx').iloc[:,1:]\n",
    "from scipy.stats import kstest\n",
    "statistic=[]\n",
    "pvalue=[]\n",
    "result=[]\n",
    "for i in task2_income.columns:\n",
    "   print(str(i)+'的正态检验结果为：')\n",
    "   print(kstest(task2_income[i],cdf = \"norm\"))\n",
    "   statistic.append(kstest(task2_income[i],cdf = \"norm\")[0])\n",
    "   pvalue.append(kstest(task2_income[i],cdf = \"norm\")[1])\n",
    "   if kstest(task2_income[i],cdf = \"norm\")[1]<0.05:\n",
    "      result.append('不符合正态分布')\n",
    "   else:\n",
    "      result.append('符合正态分布')\n",
    "task2_ks=pd.DataFrame([statistic,pvalue,result]).T\n",
    "task2_ks.columns=['statistic','pvalue','检验结果']\n",
    "task2_ks.index=['五粮液','平安银行','三一重工']\n",
    "task2_ks.to_excel(writer,sheet_name='正态检验结果')"
   ]
  },
  {
   "cell_type": "code",
   "execution_count": 56,
   "metadata": {},
   "outputs": [
    {
     "name": "stdout",
     "output_type": "stream",
     "text": [
      "计算皮尔逊相关系数结果为：           五粮液      平安银行      三一重工\n",
      "五粮液   1.000000  0.574880  0.599986\n",
      "平安银行  0.574880  1.000000  0.612627\n",
      "三一重工  0.599986  0.612627  1.000000\n"
     ]
    }
   ],
   "source": [
    "# 任务3. （20%）\n",
    "# 计算以上三家公司之间的收益率之间的皮尔逊相关系数，写入相关系数矩阵excel表格。\n",
    "# 3.皮尔逊相关系数\n",
    "print('计算皮尔逊相关系数结果为：'+str(task2_income.corr(method='pearson')))\n",
    "pd.DataFrame(task2_income.corr(method='pearson')).to_excel(writer,sheet_name='皮尔逊相关系数')\n",
    "writer.save()"
   ]
  }
 ],
 "metadata": {
  "kernelspec": {
   "display_name": "Python 3.8.10 64-bit",
   "language": "python",
   "name": "python3"
  },
  "language_info": {
   "codemirror_mode": {
    "name": "ipython",
    "version": 3
   },
   "file_extension": ".py",
   "mimetype": "text/x-python",
   "name": "python",
   "nbconvert_exporter": "python",
   "pygments_lexer": "ipython3",
   "version": "3.8.10"
  },
  "orig_nbformat": 4,
  "vscode": {
   "interpreter": {
    "hash": "8bfad08b73d8ae58273d7e252c9e1d922058e2a21d3a8ccb2a1b9808ae54a57f"
   }
  }
 },
 "nbformat": 4,
 "nbformat_minor": 2
}
